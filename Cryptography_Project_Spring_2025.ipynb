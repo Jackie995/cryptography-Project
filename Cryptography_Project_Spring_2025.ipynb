{
 "cells": [
  {
   "cell_type": "markdown",
   "id": "gjg7lRHLY7bb",
   "metadata": {
    "id": "gjg7lRHLY7bb"
   },
   "source": [
    "# CSCI 2820 - LINEAR ALGEBRA - SPRING 2025"
   ]
  },
  {
   "cell_type": "markdown",
   "id": "cZpUypYGY7bd",
   "metadata": {
    "id": "cZpUypYGY7bd"
   },
   "source": [
    "Make sure you fill in any place that says `CODE SOLUTION HERE` or \"CODE SOLUTION HERE\", as well as your NAMES below:"
   ]
  },
  {
   "cell_type": "code",
   "execution_count": 3,
   "id": "SVl67l2JY7be",
   "metadata": {
    "id": "SVl67l2JY7be"
   },
   "outputs": [],
   "source": [
    "NAMES = \"Kayo Abdi, Jarah Marshall, Jaqueline Serrano\"\n"
   ]
  },
  {
   "cell_type": "markdown",
   "id": "OxP4NZELY7bg",
   "metadata": {
    "id": "OxP4NZELY7bg"
   },
   "source": [
    "# FINAL PROJECT (Option 2):  Cryptography"
   ]
  },
  {
   "cell_type": "code",
   "execution_count": 4,
   "id": "ZxSYkRY8Y7bg",
   "metadata": {
    "id": "ZxSYkRY8Y7bg"
   },
   "outputs": [],
   "source": [
    "## This is a Jupyter notebook for the CU Linear Algebra Final Project.\n",
    "## Professor Divya E. Vernerey and Ayush Mishra\n",
    "## Spring 2025"
   ]
  },
  {
   "cell_type": "code",
   "execution_count": 5,
   "id": "M6G31uilY7bh",
   "metadata": {
    "colab": {
     "base_uri": "https://localhost:8080/"
    },
    "id": "M6G31uilY7bh",
    "outputId": "ee1872be-89d1-43f8-e66a-3799717bccd1"
   },
   "outputs": [
    {
     "name": "stdout",
     "output_type": "stream",
     "text": [
      "Requirement already satisfied: numpy in /opt/conda/lib/python3.10/site-packages (1.23.5)\n"
     ]
    }
   ],
   "source": [
    "# Add libraries you are using and add any other packages that you might have worked with\n",
    "!pip install numpy"
   ]
  },
  {
   "cell_type": "code",
   "execution_count": 6,
   "id": "8AnH62M9Y7bi",
   "metadata": {
    "id": "8AnH62M9Y7bi"
   },
   "outputs": [],
   "source": [
    "import numpy as np"
   ]
  },
  {
   "cell_type": "markdown",
   "id": "8EqSbGxuY7bi",
   "metadata": {
    "id": "8EqSbGxuY7bi"
   },
   "source": [
    "# Cryptography with Linear Algebra"
   ]
  },
  {
   "cell_type": "markdown",
   "id": "hqIi8HGPY7bk",
   "metadata": {
    "id": "hqIi8HGPY7bk"
   },
   "source": [
    "## Objective\n",
    "In this project, students will explore the fascinating world of cryptography through the lens of linear algebra. They will learn how to encode and decode messages using substitution ciphers, with a special focus on Hill ciphers. This project will enhance their understanding of modular arithmetic and linear transformations while providing practical applications of these mathematical concepts.\n",
    "\n",
    "## Key Concepts\n",
    "\n",
    "- **Enciphering**: The process of converting plaintext (uncoded messages) into ciphertext (encoded messages).\n",
    "- **Deciphering**: The reverse process of enciphering, converting ciphertext back into plaintext.\n",
    "- **Modular Arithmetic**: A system of arithmetic for integers, where numbers \"wrap around\" upon reaching a certain value—the modulus.\n",
    "- **Linear Transformations**: Functions that map vectors to other vectors in a linear manner, preserving vector addition and scalar multiplication.\n",
    "- **Hill n-cipher**: A type of substitution cipher that uses linear algebra concepts, particularly matrix multiplication, to encode messages.\n",
    "- **Digraph**: A pair of letters treated as a single unit in encoding and decoding processes.\n"
   ]
  },
  {
   "cell_type": "markdown",
   "id": "xUqPgW-HY7bk",
   "metadata": {
    "id": "xUqPgW-HY7bk"
   },
   "source": [
    "# Digraphs in Cryptography\n",
    "\n",
    "In cryptography, a **digraph** is a pair of consecutive letters treated as a single unit during the encoding and decoding processes. This approach can enhance security by encoding pairs of letters together, making it more challenging to perform frequency analysis.\n",
    "\n",
    "\n",
    "### Why Use Digraphs?\n",
    "\n",
    "Using digraphs instead of single letters makes cryptographic attacks, like frequency analysis, more difficult. This is because the patterns in pairs of letters (digraphs) are more complex and less predictable than those of individual letters.\n",
    "\n",
    "\n",
    "### Example: Hill Cipher with Digraphs\n",
    "\n",
    "\n",
    "Consider the plaintext message \"MEET\". We will divide this message into digraphs and encode it using a Hill cipher.\n",
    "\n",
    "\n",
    "### Steps to Encode Using Digraphs\n",
    "\n",
    "\n",
    "#### 1. Convert to Numerical Values\n",
    "\n",
    "* Map each letter to a number (A=0, B=1, ..., Z=25).\n",
    "* Example: \"M\" → 12, \"E\" → 4, \"E\" → 4, \"T\" → 19.\n",
    "* Digraphs: [12, 4] for \"ME\" and [4, 19] for \"ET\".\n",
    "\n",
    "\n",
    "#### 2. Matrix Multiplication\n",
    "\n",
    "\n",
    "* Use the key matrix for the Hill cipher to transform the digraphs.\n",
    "* Example key matrix:\n",
    "\n",
    "\n",
    "$$\n",
    "K = \\begin{bmatrix}\n",
    "3 & 10 \\\\\n",
    "4 & 11\n",
    "\\end{bmatrix}\n",
    "$$\n",
    "\n",
    "\n",
    "* Multiply each digraph by the key matrix:\n",
    "\n",
    "\n",
    "$$\n",
    "\\begin{bmatrix}\n",
    "3 & 10 \\\\\n",
    "4 & 11\n",
    "\\end{bmatrix}\n",
    "\\begin{bmatrix}\n",
    "12 \\\\\n",
    "4\n",
    "\\end{bmatrix}\n",
    "= \\begin{bmatrix}\n",
    "56 \\\\\n",
    "64\n",
    "\\end{bmatrix}\n",
    "$$\n",
    "\n",
    "\n",
    "#### 3. Apply Modulo Operation\n",
    "\n",
    "\n",
    "* Apply modulo 26 to the resulting vector to ensure the values stay within the range (0-25):\n",
    "\n",
    "\n",
    "$$\n",
    "\\begin{bmatrix}\n",
    "56 \\\\\n",
    "64\n",
    "\\end{bmatrix}\n",
    "\\mod 26 = \\begin{bmatrix}\n",
    "4 \\\\\n",
    "12\n",
    "\\end{bmatrix}\n",
    "$$\n",
    "\n",
    "\n",
    "#### 4. Convert Back to Letters\n",
    "\n",
    "\n",
    "* Map the numerical values back to letters.\n",
    "* Example: 4 → \"E\" and 12 → \"M\", so the digraph [4, 12] corresponds to \"EM\".\n",
    "\n",
    "\n",
    "### Complete Example\n",
    "\n",
    "\n",
    "Let's encode the entire message \"MEET\" using the Hill cipher.\n",
    "\n",
    "\n",
    "#### Step-by-Step Process:\n",
    "\n",
    "\n",
    "1. **Divide into Digraphs**:\n",
    "   - \"ME\" → [12, 4]\n",
    "   - \"ET\" → [4, 19]\n",
    "\n",
    "2. **Apply Key Matrix**:\n",
    "\n",
    "\n",
    "   - For \"ME\":\n",
    "\n",
    "\n",
    "$$\n",
    "\\begin{bmatrix}\n",
    "3 & 10 \\\\\n",
    "4 & 11\n",
    "\\end{bmatrix}\n",
    "\\begin{bmatrix}\n",
    "12 \\\\\n",
    "4\n",
    "\\end{bmatrix}\n",
    "= \\begin{bmatrix}\n",
    "56 \\\\\n",
    "64\n",
    "\\end{bmatrix}\n",
    "\\mod 26 = \\begin{bmatrix}\n",
    "4 \\\\\n",
    "12\n",
    "\\end{bmatrix}\n",
    "= \"EM\"\n",
    "$$\n",
    "\n",
    "\n",
    "   - For \"ET\":\n",
    "\n",
    "\n",
    "$$\n",
    "\\begin{bmatrix}\n",
    "3 & 10 \\\\\n",
    "4 & 11\n",
    "\\end{bmatrix}\n",
    "\\begin{bmatrix}\n",
    "4 \\\\\n",
    "19\n",
    "\\end{bmatrix}\n",
    "= \\begin{bmatrix}\n",
    "214 \\\\\n",
    "243\n",
    "\\end{bmatrix}\n",
    "\\mod 26 = \\begin{bmatrix}\n",
    "6 \\\\\n",
    "9\n",
    "\\end{bmatrix}\n",
    "= \"GJ\"\n",
    "$$\n",
    "\n",
    "\n",
    "3. **Resulting Ciphertext**:\n",
    "\n",
    "\n",
    "   - The encoded message for \"MEET\" is \"EMGJ\".\n",
    "\n",
    "\n",
    "By understanding and using digraphs, students can appreciate the added complexity and security in cryptographic processes. This example demonstrates how digraphs are used to encode and decode messages using the Hill cipher, enhancing their understanding of cryptography."
   ]
  },
  {
   "cell_type": "markdown",
   "id": "0EuVLx1PY7bl",
   "metadata": {
    "id": "0EuVLx1PY7bl"
   },
   "source": [
    "## Exercises\n",
    "\n",
    "### Exercise 1: Introduction to Hill Cipher\n",
    "**Description**: In this exercise, you will learn the basics of the Hill cipher, a type of polygraphic substitution cipher that uses linear algebra techniques. This will help you understand how to encode and decode messages using matrix multiplication and modular arithmetic.\n",
    "\n",
    "**Tasks**:\n",
    "1. **Understand the Hill Cipher Algorithm**:\n",
    "   - Learn how the Hill cipher uses a matrix (key) to transform plaintext into ciphertext.\n",
    "   - Explore the concepts of digraphs and matrix multiplication in the context of cryptography.\n",
    "2. **Implement Hill Cipher in Python**:\n",
    "   - Write Python functions to encode and decode messages using the Hill cipher.\n",
    "   - Test the implementation with given examples.\n",
    "3. **Practice Problems**:\n",
    "   - Encode the message \"SEND\" using a 2x2 key matrix.\n",
    "   - Decode a given ciphertext using the provided key matrix and verify the result.\n",
    "\n",
    "### Detailed Instructions:\n",
    "- Start by reading through the Hill cipher background above.\n",
    "- Ensure you understand how to convert letters to numbers (A=0 to Z=25).\n",
    "- Study the matrix multiplication and modulo operation example.\n",
    "- Follow the comments in the code cell below to implement each part step by step.\n",
    "- Use `numpy.dot` or `@` for matrix multiplication and `% 26` for modulo operations.\n",
    "- Don’t forget to convert numbers back to letters at the end!"
   ]
  },
  {
   "cell_type": "markdown",
   "id": "xKkGJ5ndY7bm",
   "metadata": {
    "id": "xKkGJ5ndY7bm"
   },
   "source": [
    "> **_NOTE:_**  We have provided you the **mod_inverse** function we you need to implement the rest\n",
    "\n",
    "> 💡 This function is used to compute the modular inverse of a number. You will need it while decoding messages using the Hill cipher. Make sure you understand how this works before proceeding."
   ]
  },
  {
   "cell_type": "code",
   "execution_count": 7,
   "id": "Pl9P4K5zY7bm",
   "metadata": {
    "id": "Pl9P4K5zY7bm"
   },
   "outputs": [
    {
     "name": "stdout",
     "output_type": "stream",
     "text": [
      "Original message: SEND\n",
      "Encoded message: UCUT\n",
      "Decoded message: send\n"
     ]
    }
   ],
   "source": [
    "def mod_inverse(a, m):\n",
    "    a = a % m\n",
    "    for x in range(1, m):\n",
    "        if (a * x) % m == 1:\n",
    "            return x\n",
    "    return None\n",
    "\n",
    "def encode_message(message, key_matrix, modulo):\n",
    "    # Convert message to numerical values (A=0, B=1, ..., Z=25)\n",
    "    # Multiply the message vector by the key matrix and apply modulo\n",
    "    # Convert the numerical values back to characters\n",
    "    asci_keys=[ord(c) - 97 for c in message.lower()]\n",
    "    encodedChar = []\n",
    "    for i in range(0, len(asci_keys),2):\n",
    "        blocks=asci_keys[i:i+2]\n",
    "        vector_block = np.array(blocks).reshape(2, 1)\n",
    "        encodedSpec=(key_matrix @ vector_block ) % modulo\n",
    "\n",
    "        encodedChar.extend([x[0] for x in encodedSpec.tolist()])\n",
    "    message = ''.join(chr(x + 65) for x in encodedChar)\n",
    "    return message\n",
    "\n",
    "\n",
    "def decode_message(encoded_message, key_matrix, modulo):\n",
    "    # Find the inverse of the key matrix in the modular space\n",
    "    # Convert encoded message to numerical values (A=0, B=1, ..., Z=25)\n",
    "    # Multiply the encoded vector by the inverse key matrix and apply modulo\n",
    "    # Convert the numerical values back to characters\n",
    "    det = (key_matrix[0][0] * key_matrix[1][1] - key_matrix[1][0] * key_matrix[0][1]) % modulo\n",
    "    det = mod_inverse(det, modulo)\n",
    "\n",
    "    adj = np.array([\n",
    "        [key_matrix[1][1], -key_matrix[0][1]],\n",
    "        [-key_matrix[1][0], key_matrix[0][0]]\n",
    "    ]) % modulo\n",
    "\n",
    "    inverteA = (det * adj) % modulo\n",
    "\n",
    "    Numerical_val = [ord(c) - 65 for c in encoded_message]\n",
    "    decodedMessage = []\n",
    "\n",
    "    for i in range(0, len(Numerical_val), 2):\n",
    "        blocks = Numerical_val[i:i+2]\n",
    "        vector_block = np.array(blocks).reshape(2, 1)\n",
    "        decoded = (inverteA @ vector_block) % modulo\n",
    "        decodedMessage.extend([x[0] for x in decoded.tolist()])\n",
    "\n",
    "    message = ''.join(chr(x + 97) for x in decodedMessage)\n",
    "    return message\n",
    "\n",
    "\n",
    "# Example usage\n",
    "message = \"SEND\"\n",
    "key_matrix = np.array([[3, 11], [4, 15]])\n",
    "modulo = 26\n",
    "\n",
    "# complete these functions\n",
    "encoded_message = encode_message(message, key_matrix, modulo)\n",
    "decoded_message = decode_message(encoded_message, key_matrix, modulo)\n",
    "\n",
    "print(f\"Original message: {message}\")\n",
    "print(f\"Encoded message: {encoded_message}\")\n",
    "print(f\"Decoded message: {decoded_message}\")\n"
   ]
  },
  {
   "cell_type": "code",
   "execution_count": 11,
   "id": "mvfUOo5HY7bn",
   "metadata": {
    "id": "mvfUOo5HY7bn"
   },
   "outputs": [],
   "source": [
    "## Code solution here."
   ]
  },
  {
   "cell_type": "markdown",
   "id": "jopk33xXmtcI",
   "metadata": {
    "id": "jopk33xXmtcI",
    "tags": []
   },
   "source": [
    "### Exercise 2: Matrix Inversion Modulo Arithmetic\n",
    "**Description**: In this exercise, students will explore the conditions required for a matrix to be invertible in modular arithmetic. They will learn how to calculate the modular inverse and apply it to cryptographic problems.\n",
    "\n",
    "**Tasks**:\n",
    "1. **Understand Matrix Inversion**:\n",
    "   - Review the concept of matrix inversion in linear algebra.\n",
    "   - Learn how to calculate the inverse of a matrix modulo a given integer.\n",
    "2. **Implement Modular Inverse Calculation**:\n",
    "   - Write Python functions to calculate the modular inverse of a matrix.\n",
    "   - Test the implementation with different matrices and moduli.\n",
    "3. **Application in Cryptography**:\n",
    "   - Apply the modular inverse calculation to decrypt ciphertext encoded with a Hill cipher.\n",
    "   - Discuss the significance of matrix invertibility in ensuring the security of cryptographic systems.\n",
    "\n",
    "### Detailed Instructions:\n",
    "- Begin by reviewing your encoding implementation from Exercise 1.\n",
    "- Recall that decoding uses the inverse of the key matrix.\n",
    "- Use the provided `mod_inverse` function if needed to compute the matrix inverse modulo 26.\n",
    "- Multiply the ciphertext digraphs by the inverse matrix, then apply modulo 26.\n",
    "- Convert the resulting numbers back to letters to retrieve the original plaintext.\n",
    "- Test your code with sample inputs to ensure it works correctly."
   ]
  },
  {
   "cell_type": "code",
   "execution_count": 12,
   "id": "SumgLKsem5Ni",
   "metadata": {
    "id": "SumgLKsem5Ni"
   },
   "outputs": [
    {
     "name": "stdout",
     "output_type": "stream",
     "text": [
      "Inverse matrix: [[15 15]\n",
      " [22  3]]\n"
     ]
    }
   ],
   "source": [
    "# Finding the inverse of a matrix modulo a given number\n",
    "def inverse_matrix_mod(matrix, modulo):\n",
    "    # Find the inverse of the matrix in the modular space\n",
    "    det = (key_matrix[0][0] * key_matrix[1][1] - key_matrix[1][0] * key_matrix[0][1]) % modulo\n",
    "    det = mod_inverse(det, modulo)\n",
    "\n",
    "    adj = np.array([\n",
    "        [key_matrix[1][1], -key_matrix[0][1]],\n",
    "        [-key_matrix[1][0], key_matrix[0][0]]\n",
    "    ])\n",
    "    \n",
    "    inverteA = (det * adj) % modulo\n",
    "\n",
    "    Numerical_val = [ord(c) - 65 for c in encoded_message]\n",
    "    decodedMessage = []\n",
    "    \n",
    "    return inverteA\n",
    "\n",
    "# Example usage\n",
    "matrix = np.array([[3, 11], [4, 15]])\n",
    "modulo = 26\n",
    "\n",
    "inverse_matrix = inverse_matrix_mod(matrix, modulo)\n",
    "print(f\"Inverse matrix: {inverse_matrix}\")\n"
   ]
  },
  {
   "cell_type": "markdown",
   "id": "OizQWZROY7bn",
   "metadata": {
    "id": "OizQWZROY7bn"
   },
   "source": [
    "## Exercise 3: Deciphering an Intercepted Message\n",
    "\n",
    "### Background Information\n",
    "In cryptography, frequency analysis is a technique used to break ciphers by studying the frequency of letters or groups of letters in ciphertext. This method relies on the fact that certain letters and combinations of letters appear more frequently in a given language. By comparing these frequencies in the ciphertext to known frequencies in the plaintext language, we can make educated guesses about the original message.\n",
    "\n",
    "**Common Digraphs in English**:\n",
    "- Common digraphs (pairs of letters) in English include \"TH\", \"HE\", \"IN\", \"ER\", \"AN\", and \"RE\".\n",
    "- For example, in a long English text, \"TH\" might appear frequently, while \"XZ\" might be rare.\n",
    "\n",
    "### A list of 10 Most Common Digraphs in English language\n",
    "\n",
    "| Rank | Digraph | Examples of Usage |\n",
    "|------|---------|-------------------|\n",
    "| 1    | **th**  | the, then, they, there |\n",
    "| 2    | **he**  | here, help, hence |\n",
    "| 3    | **in**  | inside, into, begin |\n",
    "| 4    | **er**  | her, over, under |\n",
    "| 5    | **an**  | and, another, animal |\n",
    "| 6    | **re**  | are, there, where |\n",
    "| 7    | **nd**  | and, hand, stand |\n",
    "| 8    | **at**  | at, that, flat |\n",
    "| 9    | **on**  | on, only, upon |\n",
    "| 10   | **st**  | start, best, most |\n",
    "\n",
    "### Task\n",
    "In this exercise, you will intercept a message that was encoded using a Hill 2-cipher and use frequency analysis to decipher it. You will:\n",
    "1. Perform frequency analysis on the ciphertext to identify common digraphs.\n",
    "2. Use your analysis to guess the corresponding plaintext digraphs.\n",
    "3. Determine the deciphering matrix based on your guesses.\n",
    "4. Decode the message using the deciphering matrix.\n",
    "\n",
    "### Steps\n",
    "1. **Frequency Analysis**: Analyze the ciphertext stored in ciphertext1 and ciphertext2 for the most frequent digraphs.\n",
    "2. **Guesses**: Suppose \"KH\" and \"XW\" are the most frequent digraphs in the ciphertext. You might guess these correspond to \"TH\" and \"HE\" in plaintext.\n",
    "3. **Deciphering Matrix**: Use these guesses to find the matrix that can decipher the message.\n",
    "4. **Decoding**: Apply the deciphering matrix to the ciphertext to retrieve the original message.\n",
    "\n",
    "\n",
    "\n",
    "\n",
    "### Detailed Instructions:\n",
    "- In this exercise, you will generate a random key matrix for encoding.\n",
    "- Ensure your matrix is invertible mod 26 (its determinant has an inverse mod 26).\n",
    "- Write a helper function to generate valid random 2x2 or 3x3 matrices.\n",
    "- Use this matrix to encode a user-provided message.\n",
    "- Include checks or exceptions to handle non-invertible matrices gracefully."
   ]
  },
  {
   "cell_type": "code",
   "execution_count": 13,
   "id": "h-PiVmvkY7bn",
   "metadata": {
    "id": "h-PiVmvkY7bn"
   },
   "outputs": [
    {
     "name": "stdout",
     "output_type": "stream",
     "text": [
      "Deciphering Matrix:\n",
      "[[23  7]\n",
      " [18  5]]\n"
     ]
    }
   ],
   "source": [
    "# (Need to implement this)\n",
    "def frequency_analysis(ciphertext):\n",
    "    # Analyze the frequency of digraphs in the ciphertext\n",
    "    freq = {}\n",
    "    for i in range(0, len(ciphertext), 2):\n",
    "        digram = ciphertext[i:i+2]\n",
    "        if len(digram) == 2:\n",
    "            if digram in freq:\n",
    "                freq[digram] += 1\n",
    "            else:\n",
    "                freq[digram] = 1\n",
    "    return freq\n",
    "\n",
    "def find_deciphering_matrix(ciphertext_digraphs, guessed_plaintext_digraphs):\n",
    "    modulo = 26\n",
    "\n",
    "    \"\"\"\n",
    "    Find the deciphering matrix using guessed plaintext digraphs and ciphertext digraphs.\n",
    "\n",
    "    Parameters:\n",
    "        ciphertext_digraphs: List of ciphertext digraphs (e.g., [\"KH\", \"XW\"]).\n",
    "        guessed_plaintext_digraphs: List of corresponding plaintext digraph guesses (e.g., [\"TH\", \"HE\"]).\n",
    "\n",
    "    Returns:\n",
    "        deciphering_matrix: The matrix used to decode the ciphertext.\n",
    "    \"\"\"\n",
    "    def digraph_to_vector(digraph):\n",
    "        # Convert each letter in a digraph to its numerical equivalent (A=0, ..., Z=25)\n",
    "        # STEP 1: Return a numpy array of the two digraphs, change the line of code below\n",
    "\n",
    "\n",
    "        return np.array([ord(digraph[0]) - 65, ord(digraph[1]) - 65])\n",
    "\n",
    "\n",
    "    # Construct matrices from digraph pairs\n",
    "    C = np.column_stack([digraph_to_vector(d) for d in ciphertext_digraphs])  # Ciphertext matrix\n",
    "\n",
    "    # STEP 2: Similarly implement this above line of code for the GUessed_plaintext_digraphs\n",
    "    P=np.column_stack([digraph_to_vector(g) for g in guessed_plaintext_digraphs])\n",
    "\n",
    "    # STEP 3: Calculate determinant and modular inverse of determinant\n",
    "    # NOTE: Make sure you confirm that inverse is possible, try and catch the error if you can\n",
    "    # or implement some way of identifying that the inverse is not possbile\n",
    "    det = (C[0][0] * C[1][1] - C[1][0] * C[0][1]) % modulo\n",
    "    det_inv = mod_inverse(det, modulo)\n",
    "    if det_inv is None:\n",
    "        return 1\n",
    "\n",
    "    adj = np.array([[C[1][1], -C[0][1]],\n",
    "                [-C[1][0], C[0][0]]]) % modulo\n",
    "\n",
    "    # STEP 4: Compute modular inverse of ciphertext matrix\n",
    "\n",
    "    C_inv = (det_inv * adj) % modulo\n",
    "\n",
    "    # STEP 5: Compute deciphering matrix by multiplying P with C^-1 modulo 'modulo'\n",
    "\n",
    "    deciphering_matrix = (P @ C_inv) % modulo\n",
    "\n",
    "\n",
    "    return deciphering_matrix\n",
    "\n",
    "# Example usage\n",
    "ciphertext_digraphs = [\"KH\", \"XW\"]\n",
    "guessed_plaintext_digraphs = [\"TH\", \"HE\"]\n",
    "deciphering_matrix = find_deciphering_matrix(ciphertext_digraphs, guessed_plaintext_digraphs)\n",
    "print(f\"Deciphering Matrix:\\n{deciphering_matrix}\")\n",
    "\n",
    "\n",
    "# Finding the deciphering matrix\n",
    "def find_deciphering_matrix(ciphertext_digraphs, guessed_plaintext_digraphs):\n",
    "    # Use the guessed plaintext digraphs to determine the deciphering matrix\n",
    "    pass\n",
    "\n",
    "# Example usage\n",
    "ciphertext1 = \"SONAFQCHMWPTVEVY\"\n",
    "\n",
    "ciphertext2 = \"XXWWOKCHYFANMQIYTQZPPWXEISLHAVANVUEPKNQXGUZQLHSWWGCSEJKGMDQMXYIGQRGDIBCUSYYTQRRWYTSYJVURULGMSPJUHRJUTQZPQUXXXXWWGRMSKWSGUGNIPWYTMZMJOATEIQNVGZEJRGBGEQQDXMJGGHWWMSVCDXPWXEISLHAVXXWOXXAVMDUNOBTQRNIJBR\"\n",
    "\n",
    "\n",
    "#frequency_analysis(ciphertext2)"
   ]
  },
  {
   "cell_type": "code",
   "execution_count": 14,
   "id": "pG-yZbDWY7bn",
   "metadata": {
    "id": "pG-yZbDWY7bn"
   },
   "outputs": [],
   "source": [
    "## Code solution here."
   ]
  },
  {
   "cell_type": "markdown",
   "id": "nCZYLNC6Y7bo",
   "metadata": {
    "id": "nCZYLNC6Y7bo"
   },
   "source": [
    "### Exercise 4: Enhanced Hill Cipher\n",
    "**Description**: This exercise introduces an additional layer of complexity by using multiple matrices to encipher and decipher messages. Students will learn how to apply multiple transformations and understand the impact on the ciphertext.\n",
    "\n",
    "**Tasks**:\n",
    "1. **Enciphering with Multiple Matrices**:\n",
    "   - Learn how to apply two different matrices sequentially to encipher a message.\n",
    "   - Implement the process in Python and encipher the message \"SEND\" using the given matrices.\n",
    "2. **Deciphering Process**:\n",
    "   - Understand the steps required to decipher a message encoded with multiple matrices.\n",
    "   - Implement the deciphering process in Python and decode the given ciphertext.\n",
    "3. **Explore the Impact of Multiple Matrices**:\n",
    "   - Discuss how using multiple matrices enhances the security of the cipher.\n",
    "   - Analyze the conditions under which the matrices are invertible and their impact on the deciphering process."
   ]
  },
  {
   "cell_type": "code",
   "execution_count": 15,
   "id": "zSar5IziY7bo",
   "metadata": {
    "id": "zSar5IziY7bo",
    "tags": []
   },
   "outputs": [
    {
     "name": "stdout",
     "output_type": "stream",
     "text": [
      "Encoded message: \\CVK\n",
      "Decoded message: send\n"
     ]
    }
   ],
   "source": [
    "# Multi-step encoding\n",
    "def multi_step_encode(message, matrices, moduli):\n",
    "    # Apply multiple matrices in succession to encode the message\n",
    "    asci_keys=[ord(c) - 97 for c in message.lower()]\n",
    "\n",
    "    encodedChar = []\n",
    "    for i in range(0, len(asci_keys),2):\n",
    "        blocks=asci_keys[i:i+2]\n",
    "        vector_block = np.array(blocks).reshape(2, 1)\n",
    "        #print(vector_block)\n",
    "\n",
    "        #encodes twice with both key matrices\n",
    "        C_initial=(matrices[0] @ vector_block ) % moduli[0]\n",
    "        C_final=(matrices[1] @ C_initial ) % moduli[1]\n",
    "       \n",
    "        \n",
    "        encodedChar.extend([x[0] for x in C_final.tolist()])\n",
    "    message = ''.join(chr(x + 65) for x in encodedChar)\n",
    "    #print(message)\n",
    "    return message\n",
    "\n",
    "# Multi-step decoding\n",
    "def multi_step_decode(encoded_message, matrices, moduli):\n",
    "    mtx_1 = matrices[0]\n",
    "    \n",
    "    det_1 = (mtx_1[0][0]*mtx_1[1][1] - mtx_1[1][0]*mtx_1[0][1]) % moduli[0]\n",
    "    det_1 = mod_inverse(det_1, moduli[0])\n",
    "\n",
    "    adj_1 = np.array([\n",
    "        [mtx_1[1][1], -mtx_1[0][1]],\n",
    "        [-mtx_1[1][0], mtx_1[0][0]]\n",
    "    ]) % moduli[0]\n",
    "\n",
    "    inv_matrix1 = (det_1 * adj_1) % moduli[0]\n",
    "\n",
    "    #modular inverse of 2nd key matrix\n",
    "    mtx_2 = matrices[1]\n",
    "    det_2 = (mtx_2[0][0]*mtx_2[1][1] - mtx_2[1][0]*mtx_2[0][1]) % moduli[1]\n",
    "    det_2 = mod_inverse(det_2, moduli[1])\n",
    "\n",
    "    adj_2 = np.array([\n",
    "        [mtx_2[1][1], -mtx_2[0][1]],\n",
    "        [-mtx_2[1][0], mtx_2[0][0]]\n",
    "    ]) % moduli[1]\n",
    "\n",
    "    inv_matrix2 = (det_2 * adj_2) % moduli[1]\n",
    "\n",
    "    Numerical_val = [ord(c) - 65 for c in encoded_message]\n",
    "    decodedMessage = []\n",
    "    \n",
    "    for i in range(0, len(Numerical_val), 2):\n",
    "        blocks = Numerical_val[i:i+2]\n",
    "        vector_block = np.array(blocks).reshape(2, 1)\n",
    "        decoded1 = (inv_matrix2 @ vector_block) % moduli[1]\n",
    "        decoded2 = (inv_matrix1 @ decoded1) % moduli[0]\n",
    "        decodedMessage.extend([x[0] for x in decoded2.tolist()])\n",
    "\n",
    "    message = ''.join(chr(x + 97) for x in decodedMessage)\n",
    "    return message\n",
    "\n",
    "# Example usage\n",
    "message = \"SEND\"\n",
    "matrices = [np.array([[3, 11], [4, 15]]), np.array([[10, 15], [5, 9]])]\n",
    "moduli = [26, 29]\n",
    "\n",
    "# Students complete these functions\n",
    "encoded_message = multi_step_encode(message, matrices, moduli)\n",
    "decoded_message = multi_step_decode(encoded_message, matrices, moduli)\n",
    "\n",
    "print(f\"Encoded message: {encoded_message}\")\n",
    "print(f\"Decoded message: {decoded_message}\")\n"
   ]
  },
  {
   "cell_type": "markdown",
   "id": "5CWZPAHgSxEP",
   "metadata": {
    "id": "5CWZPAHgSxEP"
   },
   "source": [
    "What did you observe when using the two different matrices under the same modulus? Did decoding work as expected? Why or why not?"
   ]
  },
  {
   "cell_type": "markdown",
   "id": "mfDZcDH_S8rq",
   "metadata": {
    "id": "mfDZcDH_S8rq"
   },
   "source": [
    "Describe your observations below."
   ]
  },
  {
   "cell_type": "code",
   "execution_count": 16,
   "id": "4TszMtQHTKWP",
   "metadata": {
    "id": "4TszMtQHTKWP"
   },
   "outputs": [],
   "source": [
    "# When using two different matrices under the same modulus, our encoding message seems to go out of\n",
    "# the bounds of the ASCI values assigned to letters and thus our decoded message is '\\CVK'. Despite \n",
    "# this though, decoding works as expected and we get our original message 'send' back."
   ]
  },
  {
   "cell_type": "markdown",
   "id": "ET2H2rhCY7bp",
   "metadata": {
    "id": "ET2H2rhCY7bp"
   },
   "source": [
    "## Final Discussion:\n",
    "\n",
    "Please provide a 250-300 word report on what you learned from this project. Provide any more details about the project and expand on your favorite part of the project. Include any other information you have about this."
   ]
  },
  {
   "cell_type": "markdown",
   "id": "cV3UEfWZTayb",
   "metadata": {
    "id": "cV3UEfWZTayb"
   },
   "source": [
    "Summarize your findings from all four exercises. What concepts did you find most challenging? How did you verify whether your encoding and decoding were correct?"
   ]
  },
  {
   "cell_type": "markdown",
   "id": "fNYOvJsLpqxJ",
   "metadata": {
    "id": "fNYOvJsLpqxJ"
   },
   "source": [
    "#Type your report here"
   ]
  },
  {
   "cell_type": "code",
   "execution_count": 17,
   "id": "BfMtBDe-tEbx",
   "metadata": {
    "id": "BfMtBDe-tEbx"
   },
   "outputs": [],
   "source": [
    "# Jarah: Question number 1 and 2 helped us set up 3 and 4, we were able to use the functions that we had \n",
    "# created in the first 2 problems as basically a helper function when doing multi-step encoding/decoding\n",
    "# and for the cipher text. However, we did find some troubles when finding the inverse as our function was\n",
    "# only returning the correct numbers for the first row but not for the second row. We discovered that we were \n",
    "# modding the adjunct by 26 after we swapped a and d and negated b and c values. This was redundant since we \n",
    "# only needed to mod the product of the determinant and the adjunct(the inverse). This seemed to fix our issue and\n",
    "# allowed us to calculate the proper inverse for the given word \"SEND\". We ended up using what we did to encode and\n",
    "# decode mainly for problem four with our multi-step processes. However, we defined 2 matricies by the corresponding\n",
    "# indicies of our matricies array and encoded/decoded both in order to properly get our message back. We did this by\n",
    "# multiplying our second inverted matrix by the vector block mod 29 and taking that result and multiplying our first \n",
    "# inverted matrix by that mod 26. We then converted the values of this matrix back to their ascii values to return\n",
    "# the word \"send\". My favorite part of this project was the collaboration with my group mates, we all knew our tasks\n",
    "# and were willing to help one another with any troubles we ran into, I also really enjoyed seeing a real-life \n",
    "# application for concepts we have learned in the class. I've only ever talked about cryptography in an abstract way\n",
    "# so it was great to see it used in very basic but applicable way. Thank you guys for assigning this project and \n",
    "# being so helpful with any questions or concerns the class had.\n",
    "\n",
    "    \n",
    "# Kayo: For question number 3, I had made a mistake when calculating the inverse of the ciphertext\n",
    "# rather than the inverse of the plain text. This, in turn, yielded matrix [{9, 3}, {4, 5}] when we\n",
    "# really should have gotten [{23, 7}, {18, 5}]. One thing that helped my thought process behind correctly\n",
    "# understanding this problem was using the equation C = K * P mod(m) where C is the ciphertext matrix,\n",
    "# K is the key matrix/deciphering matrix, and P is the plaintext matrix. Since we are solving for the \n",
    "# deciphering matrix (K), the equation can then be rewritten as K = C * P^-1 mod(m). Before using the \n",
    "# above equation (C = K * P mod(m)) I had a tough time following along with what exactly the question was \n",
    "# asking me to solve for. One thing helped me with the understanding and to verify whether our solution \n",
    "# was correct or not was confirming my answer with other teams.\n",
    "\n",
    "# Jaqueline: For question number 4, we are basically doing the same thing as question number 1. We are given\n",
    "# the message 'send', we have to encipher this message by seperating the string into a 2x1 matrix and \n",
    "# turning the values into ASCI ones which is then multiplied by a key matrix to yield the encoded matrix. \n",
    "# The second part of the problem was deciphering the now enciphered message to get our original message, \n",
    "# 'send'. However, for problem 4 we had to take it a step further and encode our message twice which then\n",
    "# resulted in having to decode the message twice. I think the most challenging part for me was figuring out\n",
    "# how to access the different values for each matrix in the matrices variable and also figuring out\n",
    "# why our encoded message was '/CVK', I had not realized this was the correct encoded message we were\n",
    "# supposed to be getting so I spent some time debugging with my class/teammates and looking over the\n",
    "# work I had done. Getting confirmation from Vamsi about my answer and also the fact I got 'send' after\n",
    "# decoding."
   ]
  },
  {
   "cell_type": "code",
   "execution_count": null,
   "id": "a0a2f378-d1df-4487-9a3d-686efa6190dd",
   "metadata": {},
   "outputs": [],
   "source": []
  }
 ],
 "metadata": {
  "colab": {
   "provenance": []
  },
  "kernelspec": {
   "display_name": "Python 3 (ipykernel)",
   "language": "python",
   "name": "python3"
  },
  "language_info": {
   "codemirror_mode": {
    "name": "ipython",
    "version": 3
   },
   "file_extension": ".py",
   "mimetype": "text/x-python",
   "name": "python",
   "nbconvert_exporter": "python",
   "pygments_lexer": "ipython3",
   "version": "3.10.8"
  }
 },
 "nbformat": 4,
 "nbformat_minor": 5
}
